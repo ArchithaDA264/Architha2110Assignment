{
 "cells": [
  {
   "cell_type": "markdown",
   "id": "208ab3da",
   "metadata": {},
   "source": [
    "## List\n",
    "\n",
    "<!-- Lists are collection in python, and they are heterogeneous in nature.\n",
    "They can store multiple elements which belong to multiple data types/classes\n",
    "empty_list=[ ]\n",
    "we seperate elements in list by ','\n",
    "lists are ordered and sequence in nature.\n",
    "lists are +ve and -vely indexable and also +ve and -vely sliced\n",
    "lists are mutable, changes happen in same memory location.\n",
    "list are dynamic in -->\n",
    "\n",
    "### Creating a List\n",
    "You can create a list by enclosing items in square brackets [ ].\n",
    "\n",
    "### Accessing Elements:\n",
    "You can access elements in a list using indexing. Python uses zero-based indexing, so the first element is at index 0.\n",
    "Negative indexing is also possible, where -1 refers to the last element, -2 to the second-to-last, and so on.\n",
    "\n",
    "### Slicing:\n",
    "You can extract a portion of the list using slicing.\n",
    "\n",
    "### Modifying Lists:                           \n",
    "You can change the value of a specific element by assigning a new value.\n",
    "\n",
    "### Adding and Removing Elements: \n",
    "Appending: Add an element to the end of the list using append().\n",
    "Inserting: Insert an element at a specific position using insert().\n",
    "Removing: Remove an element by value using remove().\n",
    "Popping: Remove and return an element by index using pop().\n",
    "\n",
    "### List Length:\n",
    "You can find the length of a list using len().\n",
    "\n",
    "### Iterating through a List:\n",
    "You can use a loop to go through each item in a list."
   ]
  },
  {
   "cell_type": "code",
   "execution_count": 14,
   "id": "03716f6d",
   "metadata": {},
   "outputs": [
    {
     "name": "stdout",
     "output_type": "stream",
     "text": [
      "[]\n",
      "<class 'list'>\n",
      "0\n",
      "2726801033024\n",
      "0x27ae201c740\n"
     ]
    }
   ],
   "source": [
    "g = [ ]\n",
    "print(g, type(g), len(g), id(g), hex(id(g)), sep='\\n') #length of empty string is zero"
   ]
  },
  {
   "cell_type": "code",
   "execution_count": 23,
   "id": "adea75d0",
   "metadata": {},
   "outputs": [
    {
     "name": "stdout",
     "output_type": "stream",
     "text": [
      "[]\n",
      "<class 'list'>\n",
      "0\n",
      "0x27ae2010ec0\n"
     ]
    }
   ],
   "source": [
    "l = list()\n",
    "print(l, type(l), len(l), hex(id(l)), sep = '\\n')"
   ]
  },
  {
   "cell_type": "code",
   "execution_count": 24,
   "id": "cdb92852",
   "metadata": {},
   "outputs": [
    {
     "name": "stdout",
     "output_type": "stream",
     "text": [
      "['Shiva']\n",
      "<class 'list'>\n",
      "1\n",
      "0x27ae2022bc0\n"
     ]
    }
   ],
   "source": [
    "l = ['Architha'] # if we use sqaure braces it will directly take the string\n",
    "print(l, type(l), len(l), hex(id(l)), sep = '\\n')"
   ]
  },
  {
   "cell_type": "code",
   "execution_count": 26,
   "id": "dcda12ba",
   "metadata": {},
   "outputs": [
    {
     "name": "stdout",
     "output_type": "stream",
     "text": [
      "['S', 'h', 'i', 'v', 'a']\n",
      "<class 'list'>\n",
      "5\n",
      "0x27ae1fb7fc0\n"
     ]
    }
   ],
   "source": [
    "l = list('Architha') # it will take the string into the sub-strings if we use the list \"keyword\" and add to the new string.\n",
    "print(l, type(l), len(l), hex(id(l)), sep = '\\n')"
   ]
  },
  {
   "cell_type": "code",
   "execution_count": 11,
   "id": "a732af8e",
   "metadata": {},
   "outputs": [
    {
     "data": {
      "text/plain": [
       "['Shiva',\n",
       " 7,\n",
       " 7.2,\n",
       " (5-3j),\n",
       " 'Seven',\n",
       " True,\n",
       " <function print(*args, sep=' ', end='\\n', file=None, flush=False)>,\n",
       " range]"
      ]
     },
     "execution_count": 11,
     "metadata": {},
     "output_type": "execute_result"
    }
   ],
   "source": [
    "S = ['Architha', 7, 7.2, 5-3j, 'Seven', True, print, range]\n",
    "S"
   ]
  },
  {
   "cell_type": "markdown",
   "id": "0ee81363",
   "metadata": {},
   "source": [
    "## Indexing and Slicing in Lists"
   ]
  },
  {
   "cell_type": "code",
   "execution_count": 12,
   "id": "23c28c13",
   "metadata": {},
   "outputs": [
    {
     "name": "stdout",
     "output_type": "stream",
     "text": [
      "Sajap Male\n",
      "['Sajap', 77, True, 4.0, 'Male']\n",
      "['Male', 4.0, True, 77, 'Sajap']\n",
      "['Shiva', 'Arun', 'Joshi']\n",
      "<class 'list'>\n",
      "2726801038080\n",
      "['Sajap', 77, True, 4.0, 'Male']\n",
      "<class 'list'>\n",
      "2726801059904\n"
     ]
    }
   ],
   "source": [
    "#Example\n",
    "list1 = [\"Shiva\", \"Arun\", \"Joshi\"] \n",
    "list2 = [\"Sajap\", 77, True, 4.0, \"Male\"]\n",
    "print(list2[0], list2[-1]) #indexing\n",
    "print(list2[::], list2[::-1], sep ='\\n') #slicing\n",
    "\n",
    "print(list1, type(list1), id(list1), sep ='\\n')\n",
    "print(list2, type(list2), id(list2), sep ='\\n')"
   ]
  },
  {
   "cell_type": "code",
   "execution_count": 20,
   "id": "281233ff",
   "metadata": {},
   "outputs": [
    {
     "data": {
      "text/plain": [
       "('P', 'Pravallika', 'akillavarP')"
      ]
     },
     "execution_count": 20,
     "metadata": {},
     "output_type": "execute_result"
    }
   ],
   "source": [
    "y='Pravallika'\n",
    "y[0],y[::],y[::-1]"
   ]
  },
  {
   "cell_type": "code",
   "execution_count": 28,
   "id": "877d6c4a",
   "metadata": {},
   "outputs": [
    {
     "data": {
      "text/plain": [
       "['A',\n",
       " 'r',\n",
       " 'c',\n",
       " 'h',\n",
       " 'i',\n",
       " 't',\n",
       " 'h',\n",
       " 'a',\n",
       " ' ',\n",
       " 'P',\n",
       " 'r',\n",
       " 'a',\n",
       " 'v',\n",
       " 'a',\n",
       " 'l',\n",
       " 'l',\n",
       " 'i',\n",
       " 'k',\n",
       " 'a']"
      ]
     },
     "execution_count": 28,
     "metadata": {},
     "output_type": "execute_result"
    }
   ],
   "source": [
    "x = 'Architha Pravallika'\n",
    "list(x) # takes each individually"
   ]
  },
  {
   "cell_type": "code",
   "execution_count": 17,
   "id": "722b35be",
   "metadata": {},
   "outputs": [
    {
     "data": {
      "text/plain": [
       "{' ', 'A', 'P', 'a', 'c', 'h', 'i', 'k', 'l', 'r', 't', 'v'}"
      ]
     },
     "execution_count": 17,
     "metadata": {},
     "output_type": "execute_result"
    }
   ],
   "source": [
    "set(list(x)) #takes unique elements only"
   ]
  },
  {
   "cell_type": "code",
   "execution_count": 29,
   "id": "ff940bc6",
   "metadata": {},
   "outputs": [
    {
     "data": {
      "text/plain": [
       "12"
      ]
     },
     "execution_count": 29,
     "metadata": {},
     "output_type": "execute_result"
    }
   ],
   "source": [
    "len(set(list(x)))"
   ]
  },
  {
   "cell_type": "markdown",
   "id": "9b569528",
   "metadata": {},
   "source": [
    "## Nested list\n",
    "### A list within another list is referred to as a nested list in Python. We can also say that a list that has other lists as its elements is a nested list."
   ]
  },
  {
   "cell_type": "code",
   "execution_count": 37,
   "id": "0d5063ee",
   "metadata": {},
   "outputs": [
    {
     "name": "stdout",
     "output_type": "stream",
     "text": [
      "[1, 2, 3, [4, 5, 6]]\n",
      "<class 'list'>\n",
      "4\n",
      "0x27ae2011580\n"
     ]
    }
   ],
   "source": [
    "l=[1,2,3,[4,5,6]]\n",
    "\n",
    "print(l, type(l), len(l), hex(id(l)), sep ='\\n')"
   ]
  },
  {
   "cell_type": "code",
   "execution_count": 36,
   "id": "18f14c8c",
   "metadata": {},
   "outputs": [
    {
     "data": {
      "text/plain": [
       "(list, [4, 5, 6], 4, [6, 5, 4], [6, 4], 6)"
      ]
     },
     "execution_count": 36,
     "metadata": {},
     "output_type": "execute_result"
    }
   ],
   "source": [
    "type(l[3]), l[3], l[3][0], l[3][::-1], l[3][::-2], l[3][2]"
   ]
  },
  {
   "cell_type": "markdown",
   "id": "cff267de",
   "metadata": {},
   "source": [
    "## Range\n",
    "<!-- The range() function returns a sequence of numbers, starting from 0 by default, and increments by 1 (by default), and stops before a specified number.\n",
    "\n",
    "Typecasting: Type casting, also known as type conversion, is an important concept in Java that allows us to convert one data type into another. It is useful when we need to perform operations on different data types or when you want to store a value of one data type into a variable of another data type, Default values of starting is zero and step is +1.\n",
    "\n",
    "syntax: range(start,end,step) end means till end not including end. -->"
   ]
  },
  {
   "cell_type": "code",
   "execution_count": 43,
   "id": "27b8fb67",
   "metadata": {},
   "outputs": [
    {
     "name": "stdout",
     "output_type": "stream",
     "text": [
      "range(1, 11)\n",
      "<class 'range'>\n",
      "10\n",
      "0x27ae1fafe40\n"
     ]
    }
   ],
   "source": [
    "r = range(1, 11)\n",
    "print(r, type(r), len(r), hex(id(r)), sep='\\n')"
   ]
  },
  {
   "cell_type": "code",
   "execution_count": 44,
   "id": "63958de0",
   "metadata": {},
   "outputs": [
    {
     "data": {
      "text/plain": [
       "[1, 2, 3, 4, 5, 6, 7, 8, 9, 10]"
      ]
     },
     "execution_count": 44,
     "metadata": {},
     "output_type": "execute_result"
    }
   ],
   "source": [
    "list(r)"
   ]
  },
  {
   "cell_type": "code",
   "execution_count": 45,
   "id": "3ace8dd7",
   "metadata": {},
   "outputs": [
    {
     "name": "stdout",
     "output_type": "stream",
     "text": [
      "[11, 10, 9, 8, 7, 6, 5, 4, 3, 2, 1]\n",
      "<class 'range'>\n",
      "11\n",
      "0x27ae1fad560\n"
     ]
    }
   ],
   "source": [
    "r = range(11,0,-1)\n",
    "print(list(r), type(r), len(r), hex(id(r)), sep='\\n')\n",
    "# included numbers from 20 to 1 backwards , didnt include 0 , step was -1 so it is in decreasing order."
   ]
  },
  {
   "cell_type": "code",
   "execution_count": 46,
   "id": "6710f947",
   "metadata": {},
   "outputs": [
    {
     "name": "stdout",
     "output_type": "stream",
     "text": [
      "range(10, 1, -1)\n",
      "<class 'range'>\n",
      "9\n",
      "0x27ae1faf420\n"
     ]
    }
   ],
   "source": [
    "r = range(10, 1, -1)\n",
    "print(r, type(r), len(r), hex(id(r)), sep = '\\n')"
   ]
  },
  {
   "cell_type": "code",
   "execution_count": 47,
   "id": "a34f5834",
   "metadata": {},
   "outputs": [
    {
     "data": {
      "text/plain": [
       "[10, 9, 8, 7, 6, 5, 4, 3, 2]"
      ]
     },
     "execution_count": 47,
     "metadata": {},
     "output_type": "execute_result"
    }
   ],
   "source": [
    "list(r)"
   ]
  },
  {
   "cell_type": "code",
   "execution_count": 41,
   "id": "42c686c5",
   "metadata": {},
   "outputs": [
    {
     "data": {
      "text/plain": [
       "range(0, 5)"
      ]
     },
     "execution_count": 41,
     "metadata": {},
     "output_type": "execute_result"
    }
   ],
   "source": [
    "range(5) #if we mention only 1 number so range takes it as end point and starts it from 0."
   ]
  },
  {
   "cell_type": "code",
   "execution_count": 48,
   "id": "779001b9",
   "metadata": {},
   "outputs": [
    {
     "data": {
      "text/plain": [
       "([0, 1, 2, 3, 4, 5, 6, 7, 8, 9, 10], [0, 1, 2, 3, 4, 5, 6, 7, 8, 9, 10])"
      ]
     },
     "execution_count": 48,
     "metadata": {},
     "output_type": "execute_result"
    }
   ],
   "source": [
    "list(range(0,11,1)), list(range(0,11))"
   ]
  },
  {
   "cell_type": "code",
   "execution_count": 49,
   "id": "85dec1fe",
   "metadata": {},
   "outputs": [
    {
     "data": {
      "text/plain": [
       "['__add__',\n",
       " '__class__',\n",
       " '__class_getitem__',\n",
       " '__contains__',\n",
       " '__delattr__',\n",
       " '__delitem__',\n",
       " '__dir__',\n",
       " '__doc__',\n",
       " '__eq__',\n",
       " '__format__',\n",
       " '__ge__',\n",
       " '__getattribute__',\n",
       " '__getitem__',\n",
       " '__getstate__',\n",
       " '__gt__',\n",
       " '__hash__',\n",
       " '__iadd__',\n",
       " '__imul__',\n",
       " '__init__',\n",
       " '__init_subclass__',\n",
       " '__iter__',\n",
       " '__le__',\n",
       " '__len__',\n",
       " '__lt__',\n",
       " '__mul__',\n",
       " '__ne__',\n",
       " '__new__',\n",
       " '__reduce__',\n",
       " '__reduce_ex__',\n",
       " '__repr__',\n",
       " '__reversed__',\n",
       " '__rmul__',\n",
       " '__setattr__',\n",
       " '__setitem__',\n",
       " '__sizeof__',\n",
       " '__str__',\n",
       " '__subclasshook__',\n",
       " 'append',\n",
       " 'clear',\n",
       " 'copy',\n",
       " 'count',\n",
       " 'extend',\n",
       " 'index',\n",
       " 'insert',\n",
       " 'pop',\n",
       " 'remove',\n",
       " 'reverse',\n",
       " 'sort']"
      ]
     },
     "execution_count": 49,
     "metadata": {},
     "output_type": "execute_result"
    }
   ],
   "source": [
    "dir(list)"
   ]
  },
  {
   "cell_type": "markdown",
   "id": "b63f6dd1",
   "metadata": {},
   "source": [
    "## append()\n",
    "### the append() method is used to add an element to the end of a list. Lists are a built-in data type in Python that can hold multiple values. The append() method is a list method that modifies the list in place by adding the specified element to the end of the list.\n",
    "\n",
    "Here's the basic syntax for the append() method:\n",
    "\n",
    "list_name.append(element)\n",
    "list_name: The name of the list to which you want to add an element.\n",
    "element: The value you want to add to the end of the list.\n",
    "\n",
    "Example:"
   ]
  },
  {
   "cell_type": "code",
   "execution_count": 50,
   "id": "0add0f68",
   "metadata": {},
   "outputs": [
    {
     "name": "stdout",
     "output_type": "stream",
     "text": [
      "[1, 2, 3, 4]\n"
     ]
    }
   ],
   "source": [
    "my_list = [1, 2, 3]\n",
    "my_list.append(4)\n",
    "print(my_list)"
   ]
  },
  {
   "cell_type": "code",
   "execution_count": 51,
   "id": "9d5344ed",
   "metadata": {},
   "outputs": [
    {
     "name": "stdout",
     "output_type": "stream",
     "text": [
      "[1, 2, 3, [4, 5]]\n"
     ]
    }
   ],
   "source": [
    "my_list = [1, 2, 3]\n",
    "my_list.append([4, 5])  # Appends the entire list as a single element\n",
    "print(my_list)"
   ]
  },
  {
   "cell_type": "markdown",
   "id": "1aa77620",
   "metadata": {},
   "source": [
    "## Extend()"
   ]
  },
  {
   "cell_type": "code",
   "execution_count": 52,
   "id": "03d59d3d",
   "metadata": {},
   "outputs": [
    {
     "name": "stdout",
     "output_type": "stream",
     "text": [
      "[1, 2, 3, 4, 5]\n"
     ]
    }
   ],
   "source": [
    "my_list = [1, 2, 3]\n",
    "my_list.extend([4, 5])  # Extends the list with individual elements\n",
    "print(my_list)"
   ]
  },
  {
   "cell_type": "code",
   "execution_count": 53,
   "id": "651c1cbc",
   "metadata": {},
   "outputs": [
    {
     "name": "stdout",
     "output_type": "stream",
     "text": [
      "[1, 2, 3, 4, 5]\n"
     ]
    }
   ],
   "source": [
    "my_list = [1, 2, 3]\n",
    "my_list = my_list + [4, 5]\n",
    "print(my_list)"
   ]
  },
  {
   "cell_type": "markdown",
   "id": "659422a7",
   "metadata": {},
   "source": [
    "## Insert()\n",
    "### It allows you to insert an element at a specific index in a list."
   ]
  },
  {
   "cell_type": "code",
   "execution_count": 54,
   "id": "6f0332d9",
   "metadata": {},
   "outputs": [
    {
     "name": "stdout",
     "output_type": "stream",
     "text": [
      "[1, 2, 6, 3, 4, 5]\n"
     ]
    }
   ],
   "source": [
    "my_list = [1, 2, 3, 4, 5]\n",
    "my_list.insert(2, 6)  # Inserts 6 at index 2\n",
    "print(my_list)"
   ]
  },
  {
   "cell_type": "markdown",
   "id": "c8c86c75",
   "metadata": {},
   "source": [
    "## Count()"
   ]
  },
  {
   "cell_type": "code",
   "execution_count": 55,
   "id": "6223fd98",
   "metadata": {},
   "outputs": [
    {
     "data": {
      "text/plain": [
       "3"
      ]
     },
     "execution_count": 55,
     "metadata": {},
     "output_type": "execute_result"
    }
   ],
   "source": [
    "[1,2,3,4,1,2,3,5,6,1,2,7,5].count(2)"
   ]
  },
  {
   "cell_type": "markdown",
   "id": "63fe98ac",
   "metadata": {},
   "source": [
    "## Remove()\n",
    "### Removes given element's first occurance from left to right.\n",
    "\n",
    "syntax: list.remove('a')"
   ]
  },
  {
   "cell_type": "code",
   "execution_count": 56,
   "id": "7371107f",
   "metadata": {},
   "outputs": [
    {
     "data": {
      "text/plain": [
       "['m', 'a', 'l', 'a', 'y', 'a', 'l', 'a', 'm']"
      ]
     },
     "execution_count": 56,
     "metadata": {},
     "output_type": "execute_result"
    }
   ],
   "source": [
    "x  = list('malayalam')\n",
    "x"
   ]
  },
  {
   "cell_type": "code",
   "execution_count": 57,
   "id": "48834865",
   "metadata": {},
   "outputs": [
    {
     "data": {
      "text/plain": [
       "['m', 'l', 'a', 'y', 'a', 'l', 'a', 'm']"
      ]
     },
     "execution_count": 57,
     "metadata": {},
     "output_type": "execute_result"
    }
   ],
   "source": [
    "x.remove('a')\n",
    "x"
   ]
  },
  {
   "cell_type": "markdown",
   "id": "a425afb8",
   "metadata": {},
   "source": [
    "## Pop()\n",
    "### pop gives back the last value from the list by default and removes that value from the list if you print it after that. If you mention the index number so it will give it back and remove kit from the list."
   ]
  },
  {
   "cell_type": "code",
   "execution_count": 58,
   "id": "e2daa931",
   "metadata": {},
   "outputs": [
    {
     "data": {
      "text/plain": [
       "5"
      ]
     },
     "execution_count": 58,
     "metadata": {},
     "output_type": "execute_result"
    }
   ],
   "source": [
    "l = [0,1,2,3,4,5] # 5 will be taken out and return to user.\n",
    "l.pop()"
   ]
  },
  {
   "cell_type": "code",
   "execution_count": 59,
   "id": "602f2932",
   "metadata": {},
   "outputs": [
    {
     "data": {
      "text/plain": [
       "(4, [0, 1, 2, 3])"
      ]
     },
     "execution_count": 59,
     "metadata": {},
     "output_type": "execute_result"
    }
   ],
   "source": [
    "a = l.pop()\n",
    "a,l"
   ]
  },
  {
   "cell_type": "code",
   "execution_count": null,
   "id": "6a4722b9",
   "metadata": {},
   "outputs": [],
   "source": [
    "l.pop(1)"
   ]
  },
  {
   "cell_type": "markdown",
   "id": "996a8f7a",
   "metadata": {},
   "source": [
    "## Tuple()\n",
    "### A tuple in Python is a collection of ordered, immutable elements. This means that once you create a tuple, you cannot change its contents. Tuples are defined using parentheses (). Tuples, unlike lists, cannot be modified once they are created. This immutability provides safety for data that should not be changed accidentally.\n",
    "\n",
    "<!-- Returning multiple values from functions.\n",
    "Storing data that should not be changed.\n",
    "Data integrity and safety.\n",
    "Dictionary keys (since they need to be immutable types).\n",
    "Limited methods due to immutability - count() and index() being some of the main ones.\n",
    "They can contain a mix of different data types.\n",
    "Tuples are versatile and efficient data structures in Python, offering a way to store data securely when immutability is desired. -->"
   ]
  },
  {
   "cell_type": "code",
   "execution_count": 2,
   "id": "ad363db8",
   "metadata": {},
   "outputs": [],
   "source": [
    "my_tuple = (1, 2, 3, 'apple', 'banana')\n",
    "empty_tuple = ()\n",
    "single_element_tuple = (5,)  # Note the comma after the single element"
   ]
  },
  {
   "cell_type": "code",
   "execution_count": 3,
   "id": "3481db44",
   "metadata": {},
   "outputs": [
    {
     "name": "stdout",
     "output_type": "stream",
     "text": [
      "1\n",
      "(2, 3, 'apple')\n"
     ]
    }
   ],
   "source": [
    "my_tuple = (1, 2, 3, 'apple', 'banana')\n",
    "print(my_tuple[0])  # Accesses the first element: 1\n",
    "print(my_tuple[1:4])  # Slices elements from index 1 to 3: (2, 3, 'apple')"
   ]
  },
  {
   "cell_type": "markdown",
   "id": "6dbc3ba6",
   "metadata": {},
   "source": [
    "## Count()\n",
    "### Counts the number of occurrences of a specified value in the tuple."
   ]
  },
  {
   "cell_type": "code",
   "execution_count": 9,
   "id": "a2c2241b",
   "metadata": {},
   "outputs": [
    {
     "name": "stdout",
     "output_type": "stream",
     "text": [
      "3\n"
     ]
    }
   ],
   "source": [
    "my_tuple = (1, 2, 2, 3, 2, 'apple')\n",
    "count_2 = my_tuple.count(2)  # count of occurrences of '2'\n",
    "print(count_2)"
   ]
  },
  {
   "cell_type": "markdown",
   "id": "a4d85b1b",
   "metadata": {},
   "source": [
    "## Index()\n",
    "### Returns the index of the first occurrence of a specified value."
   ]
  },
  {
   "cell_type": "code",
   "execution_count": 10,
   "id": "8f27d3d5",
   "metadata": {},
   "outputs": [
    {
     "data": {
      "text/plain": [
       "1"
      ]
     },
     "execution_count": 10,
     "metadata": {},
     "output_type": "execute_result"
    }
   ],
   "source": [
    "my_tuple = ('a', 'b', 'c', 'b')\n",
    "index_b = my_tuple.index('b')  # Returns 1 (index of the first occurrence of 'b')\n",
    "index_b"
   ]
  }
 ],
 "metadata": {
  "kernelspec": {
   "display_name": "Python 3 (ipykernel)",
   "language": "python",
   "name": "python3"
  },
  "language_info": {
   "codemirror_mode": {
    "name": "ipython",
    "version": 3
   },
   "file_extension": ".py",
   "mimetype": "text/x-python",
   "name": "python",
   "nbconvert_exporter": "python",
   "pygments_lexer": "ipython3",
   "version": "3.11.5"
  }
 },
 "nbformat": 4,
 "nbformat_minor": 5
}
