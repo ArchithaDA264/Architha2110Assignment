{
 "cells": [
  {
   "cell_type": "markdown",
   "id": "618ca4ee",
   "metadata": {},
   "source": [
    "# 1.write a  python program that asks the users for their age and prints \"you are an adult\"if the age 18 or older\n",
    "   otherwise prints \"you are a minor'."
   ]
  },
  {
   "cell_type": "code",
   "execution_count": null,
   "id": "e6b6e778",
   "metadata": {},
   "outputs": [],
   "source": [
    "# Ask the user for their age\n",
    "age =int(input(\"please enter your age:\"))\n",
    "if age>=18:\n",
    "    print(\"you are4 an adult\")\n",
    "else:\n",
    "    print(\"you are a minor\")\n",
    "please enter your age:22\n",
    "    you are an adult"
   ]
  },
  {
   "cell_type": "markdown",
   "id": "a373bef3",
   "metadata": {},
   "source": [
    "# 2. write a program thet takes  a numerical grade (out of 100) as input and prints  the corresponding letter grade accoring to following:\n",
    "90-100:A\n",
    "80_"
   ]
  },
  {
   "cell_type": "code",
   "execution_count": null,
   "id": "4d4d90a5",
   "metadata": {},
   "outputs": [],
   "source": [
    "numerical_grade =int(input(\"enter your numericakl grade(out of 100):\"))\n",
    "if numerical_grade >=90:\n",
    "    print('A')\n",
    "if numerical_grade >=80:\n",
    "    print('B')\n",
    "if numerical_grade >=70:\n",
    "    print('C')\n",
    "if numerical_grade >=60:\n",
    "    print('D')\n",
    "else:\n",
    "    print('E')\n",
    "Enter your numerical grade(out of 100):65\n",
    "D\n"
   ]
  },
  {
   "cell_type": "code",
   "execution_count": null,
   "id": "44dcf94a",
   "metadata": {},
   "outputs": [],
   "source": []
  },
  {
   "cell_type": "code",
   "execution_count": null,
   "id": "c2443709",
   "metadata": {},
   "outputs": [],
   "source": [
    "weight_kg = int(input(\"enter your weight in kilograms:\"))\n",
    "Height_m = float (input(\"Enter your height in meters:\"))\n",
    "\n",
    "bmi =weight_kg / (height_m ** 2)\n",
    "\n",
    "if bmi < 20:\n",
    "    print(\"underweight\")\n",
    "elif 230 <= bmi < 25:\n",
    "    print(\"normal weight\")\n",
    "elif 25 <=bmi < 30:\n",
    "    print(\"overweight\")\n",
    "else:\n",
    "    print(\"obese\")\n",
    "    \n",
    "enter your weight in kilograms:70\n",
    "enter your height in meters:1.7\n",
    "normal weight"
   ]
  },
  {
   "cell_type": "code",
   "execution_count": null,
   "id": "2d45fe16",
   "metadata": {},
   "outputs": [],
   "source": []
  },
  {
   "cell_type": "code",
   "execution_count": null,
   "id": "b1259776",
   "metadata": {},
   "outputs": [],
   "source": [
    "num1 = int(input(\"Enter the first number: \"))\n",
    "num2 = int(input(\"enter the second number: \"))\n",
    "num3 = int (input(\"Enter the third  number:\"))\n",
    "\n",
    "maximum = max(num1,num2,num3)\n",
    "\n",
    "print(maximum)\n",
    "\n",
    "Enter the first numbetr: 22\n",
    "Enter the second number: 27\n",
    "Enter the third number:29\n",
    "29\n",
    "    \n",
    "    "
   ]
  },
  {
   "cell_type": "code",
   "execution_count": null,
   "id": "8c2960e3",
   "metadata": {},
   "outputs": [],
   "source": []
  },
  {
   "cell_type": "code",
   "execution_count": null,
   "id": "455e0e2d",
   "metadata": {},
   "outputs": [],
   "source": [
    "temperature = float(input(\"Enter the temperature in celsius\"))\n",
    "\n",
    "if temperature < 0:\n",
    "    print(\"it's freezing\")\n",
    "elif 0 <= temperature <= 10:\n",
    "    print(\"It's cool\")\n",
    "elif 10 < temperature <= 20:\n",
    "    print(\"It's warm\")\n",
    "else:\n",
    "    print(\"It's hot\")\n",
    "    \n",
    "Enter the temperature in celsius: 20\n",
    "It's warm\n",
    "    "
   ]
  },
  {
   "cell_type": "code",
   "execution_count": null,
   "id": "12be36ab",
   "metadata": {},
   "outputs": [],
   "source": []
  },
  {
   "cell_type": "code",
   "execution_count": null,
   "id": "76df65a6",
   "metadata": {},
   "outputs": [],
   "source": [
    "number = int(input(\"Enter a number:\"))\n",
    "\n",
    "if 10 <= number <=20:\n",
    "    print(\"in range\")\n",
    "else:\n",
    "    print(\"out of range\")\n",
    "    \n",
    "Enter a number: 15\n",
    "In range"
   ]
  },
  {
   "cell_type": "code",
   "execution_count": null,
   "id": "0b9f7f3f",
   "metadata": {},
   "outputs": [],
   "source": []
  },
  {
   "cell_type": "code",
   "execution_count": null,
   "id": "c7a7100b",
   "metadata": {},
   "outputs": [],
   "source": [
    "number = int(input(\"Enter an interger:\"))\n",
    "\n",
    "if number % 2 == 0:\n",
    "    print(\"number is even\")\n",
    "else:\n",
    "    print(\"number is odd\")\n",
    "    \n",
    "Enter an integer: 15\n",
    "number is odd"
   ]
  },
  {
   "cell_type": "code",
   "execution_count": null,
   "id": "36d68140",
   "metadata": {},
   "outputs": [],
   "source": []
  },
  {
   "cell_type": "code",
   "execution_count": null,
   "id": "f8d49019",
   "metadata": {},
   "outputs": [],
   "source": [
    "player1 = input('player 1:')\n",
    "player2 = input('player 2:')\n",
    "\n",
    "if player1 == player2:\n",
    "    print(\"itr's a tiel\")\n",
    "elif player1 == \"rock\":\n",
    "    if player2 == \"scissors\":\n",
    "        printO(\"player 1 wins\")\n",
    "    else:\n",
    "        print(\"player 2 wins\")\n",
    "elif player1 == \"paper\":\n",
    "    if player2 == \"rock\":\n",
    "        print(\"player 1 wins\")\n",
    "    else:\n",
    "        print(\"player 2 wins\")\n",
    "elif player1 == \"scissors\":\n",
    "    if player2 == \"paper\":\n",
    "        print(\"player 1 wins\")\n",
    "    else:\n",
    "        print(\"player 2 wins\")\n",
    "        \n",
    "player 1:rock\n",
    "player 2:paper\n",
    "player 2 wins\n"
   ]
  },
  {
   "cell_type": "code",
   "execution_count": null,
   "id": "f515fe8f",
   "metadata": {},
   "outputs": [],
   "source": []
  },
  {
   "cell_type": "code",
   "execution_count": null,
   "id": "f40461e4",
   "metadata": {},
   "outputs": [],
   "source": [
    "word = input(\"Enter a word: \")\n",
    "\n",
    "if word.endswith('s'):\n",
    "    print(\"word is not plural.\")\n",
    "else:\n",
    "    print(\"word is not plural.\")\n",
    "    \n",
    "Enter a word: paint\n",
    "word is not plural."
   ]
  }
 ],
 "metadata": {
  "kernelspec": {
   "display_name": "Python 3 (ipykernel)",
   "language": "python",
   "name": "python3"
  },
  "language_info": {
   "codemirror_mode": {
    "name": "ipython",
    "version": 3
   },
   "file_extension": ".py",
   "mimetype": "text/x-python",
   "name": "python",
   "nbconvert_exporter": "python",
   "pygments_lexer": "ipython3",
   "version": "3.11.5"
  }
 },
 "nbformat": 4,
 "nbformat_minor": 5
}
